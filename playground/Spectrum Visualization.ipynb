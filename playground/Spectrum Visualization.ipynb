{
 "cells": [
  {
   "cell_type": "markdown",
   "metadata": {},
   "source": [
    "# Spectrum Visualization"
   ]
  },
  {
   "cell_type": "markdown",
   "metadata": {},
   "source": [
    "## Helper funcs"
   ]
  },
  {
   "cell_type": "code",
   "execution_count": 2,
   "metadata": {
    "collapsed": true
   },
   "outputs": [],
   "source": [
    "import math\n",
    "\n",
    "def load_sample_file(f):\n",
    "    ret = {\n",
    "        'sample_rate': None,\n",
    "        'duration': None,\n",
    "        'data': None\n",
    "    }\n",
    "    with open(f) as fp:\n",
    "        sample_rate_s, duration_s, group_cnt = fp.readline().split(',')\n",
    "        sample_rate, duration = float(sample_rate_s), float(duration_s)\n",
    "        line_cnt = math.ceil(int(sample_rate * duration))\n",
    "        ret['sample_rate'] = sample_rate\n",
    "        ret['duration'] = duration\n",
    "        ret['data'] = [\n",
    "            float(point)\n",
    "            for line in [fp.readline() for _ in range(int(line_cnt))]\n",
    "            for point in line.split(',')\n",
    "            if line\n",
    "        ]\n",
    "    return ret"
   ]
  },
  {
   "cell_type": "markdown",
   "metadata": {},
   "source": [
    "## Load sample file"
   ]
  },
  {
   "cell_type": "code",
   "execution_count": 3,
   "metadata": {
    "collapsed": true
   },
   "outputs": [],
   "source": [
    "import numpy as np\n",
    "\n",
    "def mag(cmplx):\n",
    "    return cmplx.real * cmplx.real + cmplx.imag * cmplx.imag\n",
    "\n",
    "def fft(data):\n",
    "    return np.fft.fft(data)\n",
    "\n",
    "sample_data = load_sample_file('sample_snaps_44100_1.sample')\n",
    "sample_data_data_np = np.asarray(sample_data['data'])\n",
    "sample_rate = sample_data['sample_rate']\n",
    "duration = sample_data['duration']"
   ]
  },
  {
   "cell_type": "markdown",
   "metadata": {},
   "source": [
    "## Plot"
   ]
  },
  {
   "cell_type": "code",
   "execution_count": null,
   "metadata": {},
   "outputs": [
    {
     "data": {
      "image/png": "[encoded data removed]",
      "text/plain": [
       "<matplotlib.figure.Figure at 0x7f6f3149e160>"
      ]
     },
     "metadata": {},
     "output_type": "display_data"
    }
   ],
   "source": [
    "%matplotlib inline\n",
    "\n",
    "import matplotlib.pyplot as plt\n",
    "import time\n",
    "from IPython import display\n",
    "\n",
    "_WINDOW = 1000\n",
    "_SLOT_WIDTH = sample_rate / _WINDOW\n",
    "\n",
    "plt.rcParams[\"figure.figsize\"] = (15,3)\n",
    "plt.xlabel('Frequency')\n",
    "plt.ylabel('Amplitude')\n",
    "\n",
    "vfunc = np.vectorize(lambda x: mag(x))\n",
    "for i in range(min(sample_data_data_np.size // _WINDOW, 40)):\n",
    "    freq_slice_size = _WINDOW // 2\n",
    "    sample_slice = fft(sample_data_data_np[i*_WINDOW:(i+1)*_WINDOW])\n",
    "    sample_slice = sample_slice[:freq_slice_size]\n",
    "    sample_slice = np.vectorize(lambda x: x*2)(sample_slice)\n",
    "    freq_slice = vfunc(sample_slice)\n",
    "    plt.clf()\n",
    "    plt.plot(np.asarray([i * _SLOT_WIDTH for i in range(freq_slice_size)]), freq_slice)\n",
    "    display.clear_output(wait=True)\n",
    "    display.display(plt.gcf())\n",
    "    time.sleep(0.1)"
   ]
  }
 ],
 "metadata": {
  "kernelspec": {
   "display_name": "Python 3",
   "language": "python",
   "name": "python3"
  },
  "language_info": {
   "codemirror_mode": {
    "name": "ipython",
    "version": 3
   },
   "file_extension": ".py",
   "mimetype": "text/x-python",
   "name": "python",
   "nbconvert_exporter": "python",
   "pygments_lexer": "ipython3",
   "version": "3.6.4"
  }
 },
 "nbformat": 4,
 "nbformat_minor": 2
}
